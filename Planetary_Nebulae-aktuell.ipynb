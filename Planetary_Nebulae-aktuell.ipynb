{
 "cells": [
  {
   "cell_type": "code",
   "execution_count": 1,
   "metadata": {},
   "outputs": [],
   "source": [
    "import numpy as np\n",
    "#import pandas as pd\n",
    "import matplotlib.pyplot as plt\n",
    "import astropy.units as u\n",
    "import astropy.constants as const"
   ]
  },
  {
   "cell_type": "code",
   "execution_count": 2,
   "metadata": {},
   "outputs": [],
   "source": [
    "# given constants \n",
    "\n",
    "extinction = 0.09 \n",
    "F_H_beta = 10**(-10.08 + extinction) *u.erg / (u.cm)**2 / u.s\n",
    "\n",
    "V_0 = 12.9 - 2.175 * extinction\n",
    "F_ref_5480 = 3.65e-9 * 10**(-0.4*V_0) * u.erg / (u.cm)**2 / u.s / u.AA\n",
    "\n",
    "T_neb = 9600 * u.K \n",
    "\n",
    "n_e = 5.1e3 * (u.cm)**(-3)\n"
   ]
  },
  {
   "cell_type": "markdown",
   "metadata": {},
   "source": [
    "# Uncertanity\n",
    "\n",
    "For the uncertanity of the calculated values the min-max method is used to obtain the maximal error. There is only a uncertanity known for two of the given values: F_H_beta and F_ref_5480"
   ]
  },
  {
   "cell_type": "code",
   "execution_count": 65,
   "metadata": {},
   "outputs": [],
   "source": [
    "extinction_max = 0.09 + 0.07\n",
    "extinction_min = 0.09 - 0.07\n",
    "\n",
    "F_H_beta_max = 10**(-10.08 + 0.3 + extinction_max) *u.erg / (u.cm)**2 / u.s\n",
    "F_H_beta_min = 10**(-10.08 - 0.3 + extinction_min) *u.erg / (u.cm)**2 / u.s\n",
    "\n",
    "V_0_max = 12.9 + 0.3 - 2.175 * extinction_min\n",
    "V_0_min = 12.9 - 0.3 - 2.175 * extinction_max\n",
    "\n",
    "F_ref_5480_max = 3.65e-9 * 10**(-0.4*V_0_min) * u.erg / (u.cm)**2 / u.s / u.AA\n",
    "F_ref_5480_min = 3.65e-9 * 10**(-0.4*V_0_max) * u.erg / (u.cm)**2 / u.s / u.AA\n",
    "\n",
    "delta_F_H_beta = (F_H_beta_max - F_H_beta_min) / 2 \n",
    "delta_F_ref_5480 = (F_ref_5480_max - F_ref_5480_min) / 2 \n"
   ]
  },
  {
   "cell_type": "code",
   "execution_count": 66,
   "metadata": {},
   "outputs": [],
   "source": [
    "# Measurements \n",
    "\n",
    "# relative fluxes in equivalent-width\n",
    "\n",
    "f_H_beta = 94.4978    # äquivalentbreite\n",
    "f_He_II = 2.219203    # äquivalentbreite\n",
    "\n",
    "# diameter of the nebula in pixels\n",
    "\n",
    "fwhm_H = 14    # in pixels\n",
    "base_H = 24    # in pixels\n",
    "\n",
    "fwhm_He = 7    # in pixels\n",
    "base_He = 15    # in pixels\n",
    "\n",
    "fwhm_seeing = 6    # in pixels\n",
    "base_seeing = 9    # in pixels\n",
    "\n",
    "average_ratio = (fwhm_H / base_H + fwhm_He/base_He + fwhm_seeing/base_seeing) /3\n",
    "\n",
    "ang_H = np.sqrt(fwhm_H **2 - fwhm_seeing **2) / average_ratio\n",
    "ang_He = np.sqrt(fwhm_He **2 - fwhm_seeing **2) / average_ratio \n",
    "\n",
    "# log(g) and T_eff of the star trough model fit to H_gamma line\n",
    "\n",
    "log_g_1 = 3.74\n",
    "log_g_2 = 3.5\n",
    "T_eff_1 = 5e4 * u.K\n",
    "T_eff_2= 4e4 * u.K\n"
   ]
  },
  {
   "cell_type": "code",
   "execution_count": 67,
   "metadata": {},
   "outputs": [],
   "source": [
    "# Recombination Coefficient defined\n",
    "\n",
    "def alpha(T, z):\n",
    "    '''\n",
    "    Z is the nuclear charge\n",
    "    C is some constant\n",
    "    x is the temperature dependent variable\n",
    "    '''\n",
    "    C = 5.197e-14 * u.cm**3 / u.s\n",
    "    x = 1.57890e5 * z**2 / (T.si.value)\n",
    "\n",
    "    alpha = C * z * np.sqrt(x) * (0.5 * np.log(x) + 0.469 * x**(-1/3) - 0.3412)\n",
    "    \n",
    "    return alpha"
   ]
  },
  {
   "cell_type": "code",
   "execution_count": 68,
   "metadata": {},
   "outputs": [],
   "source": [
    "# Zanstra ratios defined\n",
    "\n",
    "def Zanstra(nu, A, Flux, Flux_ref, T, z, B_l_T):\n",
    "    '''\n",
    "    nu is the frequency of the line\n",
    "    A is the Einstein-Coefficient of the line\n",
    "    Flux is the Flux of the Line\n",
    "    Flux_ref is the used reference flux\n",
    "    '''\n",
    "    h = 6.626196e-27 * u.erg * u.s\n",
    "\n",
    "    Z = (h * nu * B_l_T * A / ((T) **(3/2) * alpha(T, z))\n",
    "         * Flux_ref / Flux)\n",
    "    \n",
    "    return Z"
   ]
  },
  {
   "cell_type": "code",
   "execution_count": 69,
   "metadata": {},
   "outputs": [],
   "source": [
    "# theoretical/model Zanstra Ratio\n",
    "\n",
    "def Zanstra_model(T, wave,  freq):\n",
    "    '''\n",
    "    T is the blackbody temperature\n",
    "    wave is the reference wavelength\n",
    "    freq is the minimum ionization frrequency\n",
    "    '''\n",
    "    Z = planck_wave(wave, T) / ionizing_photons(freq, T)\n",
    "\n",
    "    return Z"
   ]
  },
  {
   "cell_type": "code",
   "execution_count": 70,
   "metadata": {},
   "outputs": [],
   "source": [
    "# Here the angular diameter is defined\n",
    "\n",
    "def convert_pixel_to_angular(pixel):\n",
    "\n",
    "    #theta is the angular diameter in arcsec\n",
    "    theta = 1 / 1.82 * pixel * u.arcsec\n",
    "\n",
    "    return theta"
   ]
  },
  {
   "cell_type": "code",
   "execution_count": 71,
   "metadata": {},
   "outputs": [],
   "source": [
    "# Planck function in wavelength config defined\n",
    "\n",
    "def planck_wave(wave, T):\n",
    "    h = const.h\n",
    "    kB = const.k_B\n",
    "    c = const.c\n",
    "\n",
    "    B = 2 * h * c**2 / wave**5 / (np.exp(h * c / (wave * kB * T)) - 1)\n",
    "    \n",
    "    return B.decompose().value * 1e-7 * u.erg / u.s / u.cm **2 / u.AA"
   ]
  },
  {
   "cell_type": "code",
   "execution_count": 72,
   "metadata": {},
   "outputs": [],
   "source": [
    "# number of ionizing photons in the wiens approximation\n",
    "\n",
    "def ionizing_photons(nu, T):\n",
    "    '''\n",
    "    nu frequency where the ionisation becomes possible\n",
    "    T is the blackbody temperature\n",
    "    '''\n",
    "    h = const.h\n",
    "    kB = const.k_B\n",
    "    c = const.c\n",
    "\n",
    "    N = (2 / c**2 * np.exp(-h * nu / (kB * T)) * \n",
    "         (nu **2 * kB * T / h \n",
    "          + 2 * nu * (kB * T / h)**2 \n",
    "          + 2 * (kB * T / h)**3))\n",
    "    \n",
    "    return N.si.value * 1e-4 / u.s / u.cm**2"
   ]
  },
  {
   "cell_type": "code",
   "execution_count": 73,
   "metadata": {},
   "outputs": [
    {
     "name": "stdout",
     "output_type": "stream",
     "text": [
      "ang_dia_H = 12.145737305671783 arcsec\n",
      "---------------\n",
      "ang_dia_He = 3.462067798909196 arcsec\n"
     ]
    }
   ],
   "source": [
    "# 1. Angular diameters \n",
    "\n",
    "ang_dia_H = convert_pixel_to_angular(ang_H)\n",
    "ang_dia_He = convert_pixel_to_angular(ang_He)\n",
    "\n",
    "print(f\"ang_dia_H = {ang_dia_H}\")\n",
    "print(\"---------------\")\n",
    "print(f\"ang_dia_He = {ang_dia_He}\")\n",
    "\n",
    "# full real angular diameter of the nebula ngc 6210 is 40\"x30\", BUT\n",
    "# the luminous center is 13\"x16\" (according to wikipedia)\n",
    "# He is more centered, H value corresponds roughly!"
   ]
  },
  {
   "cell_type": "code",
   "execution_count": 86,
   "metadata": {},
   "outputs": [
    {
     "name": "stdout",
     "output_type": "stream",
     "text": [
      "8.434047070082103e-15 erg / (s cm2)\n",
      "F_He_II = 2.4221369929782024e-13 erg / (s cm2) +- 2.763032586955446e-13 erg / (s cm2)\n"
     ]
    }
   ],
   "source": [
    "# 2. Flux of He and alpha He\n",
    "\n",
    "alpha_H_beta = F_H_beta / f_H_beta\n",
    "alpha_He_II = (alpha_H_beta\n",
    "               * convert_pixel_to_angular(ang_He)**2\n",
    "               / convert_pixel_to_angular(ang_H)**2)\n",
    "F_He_II = alpha_He_II * f_He_II * 10**(1.04 * extinction)\n",
    "\n",
    "# error\n",
    "\n",
    "alpha_H_max = (F_H_beta + delta_F_H_beta) / f_H_beta\n",
    "alpha_H_min = (F_H_beta - delta_F_H_beta) / f_H_beta\n",
    "\n",
    "alpha_He_max = (alpha_H_max\n",
    "               * convert_pixel_to_angular(ang_He)**2\n",
    "               / convert_pixel_to_angular(ang_H)**2)\n",
    "alpha_He_min = (alpha_H_min\n",
    "               * convert_pixel_to_angular(ang_He)**2\n",
    "               / convert_pixel_to_angular(ang_H)**2)\n",
    "F_He_max = alpha_He_max * f_He_II * 10**(1.04 * extinction_max)\n",
    "F_He_min = alpha_He_min * f_He_II * 10**(1.04 * extinction_min)\n",
    "\n",
    "print(F_He_min)\n",
    "\n",
    "delta_F_He = (F_He_max - F_He_min) / 2\n",
    "\n",
    "print(f\"F_He_II = {F_He_II} +- {delta_F_He}\")\n"
   ]
  },
  {
   "cell_type": "code",
   "execution_count": 75,
   "metadata": {},
   "outputs": [
    {
     "data": {
      "text/latex": [
       "$1.023293 \\times 10^{-10} \\; \\mathrm{\\frac{erg}{s\\,cm^{2}}}$"
      ],
      "text/plain": [
       "<Quantity 1.02329299e-10 erg / (s cm2)>"
      ]
     },
     "execution_count": 75,
     "metadata": {},
     "output_type": "execute_result"
    }
   ],
   "source": [
    "F_H_beta\n"
   ]
  },
  {
   "cell_type": "code",
   "execution_count": 76,
   "metadata": {},
   "outputs": [
    {
     "name": "stdout",
     "output_type": "stream",
     "text": [
      "Z_H_beta = 1.4768863529479585e-16 erg / Angstrom +- 2.417839869849598e-16 erg / Angstrom\n",
      "-------------------------\n",
      "Z_He = 7.325989493766626e-14 erg / Angstrom +- 1.5850814177036363e-12 erg / Angstrom\n"
     ]
    }
   ],
   "source": [
    "# 3. Zanstra ratios \n",
    "\n",
    "# H_beta\n",
    "\n",
    "A_H_beta = 8.42e6 / u.s\n",
    "nu_H_beta = (4861.3 * u.AA).to(u.Hz, equivalencies=u.spectral()).decompose()\n",
    "B_H_beta = 3.58e-15 * u.K **(3/2) * u.cm **3\n",
    "z_H = 1 \n",
    "\n",
    "Z_H = Zanstra(nu_H_beta, A_H_beta, F_H_beta, F_ref_5480,\n",
    "                            T_neb, z_H, B_H_beta)\n",
    "\n",
    "\n",
    "# He \n",
    "\n",
    "A_He = 142.4e6 / u.s\n",
    "nu_He = (4686.0 * u.AA).to(u.Hz, equivalencies=u.spectral()).decompose()\n",
    "B_He = 1.44e-15 * u.K **(3/2) * u.cm **3\n",
    "z_He = 2\n",
    "\n",
    "Z_He = Zanstra(nu_He, A_He, F_He_II, F_ref_5480, T_neb, z_He, B_He)\n",
    "\n",
    "\n",
    "# error\n",
    "\n",
    "Z_H_max = Zanstra(nu_H_beta, A_H_beta, F_H_beta_min, F_ref_5480_max, \n",
    "                  T_neb, z_H, B_H_beta)\n",
    "Z_H_min = Zanstra(nu_H_beta, A_H_beta, F_H_beta_max, F_ref_5480_min, \n",
    "                  T_neb, z_H, B_H_beta)\n",
    "\n",
    "delta_Z_H = (Z_H_max - Z_H_min) / 2\n",
    "\n",
    "Z_He_max = Zanstra(nu_He, A_He, F_He_min, F_ref_5480_max, \n",
    "                  T_neb, z_He, B_He)\n",
    "Z_He_min = Zanstra(nu_He, A_He, F_He_max, F_ref_5480_min, \n",
    "                  T_neb, z_He, B_He)\n",
    "\n",
    "delta_Z_He = (Z_He_max - Z_He_min) / 2\n",
    "\n",
    "print(f\"Z_H_beta = {Z_H} +- {delta_Z_H}\")\n",
    "print(\"-------------------------\")\n",
    "print(f\"Z_He = {Z_He} +- {delta_Z_He}\")\n"
   ]
  },
  {
   "cell_type": "code",
   "execution_count": 77,
   "metadata": {},
   "outputs": [
    {
     "name": "stdout",
     "output_type": "stream",
     "text": [
      "Flux at 5480 Angström: [2.59760497e+08 3.04220261e+08 3.48963016e+08 3.93912955e+08\n",
      " 4.39019046e+08 4.84245698e+08 5.29567351e+08 5.74965178e+08\n",
      " 6.20425010e+08] erg / (Angstrom s cm2)\n",
      "-------------------\n",
      "Zanstra model ratios H: T = 40000 K  K, Z = 4.095e-16 erg / Angstrom\n",
      "Zanstra model ratios H: T = 45000 K  K, Z = 2.595e-16 erg / Angstrom\n",
      "Zanstra model ratios H: T = 50000 K  K, Z = 1.782e-16 erg / Angstrom\n",
      "Zanstra model ratios H: T = 55000 K  K, Z = 1.298e-16 erg / Angstrom\n",
      "Zanstra model ratios H: T = 60000 K  K, Z = 9.882e-17 erg / Angstrom\n",
      "Zanstra model ratios H: T = 65000 K  K, Z = 7.787e-17 erg / Angstrom\n",
      "Zanstra model ratios H: T = 70000 K  K, Z = 6.306e-17 erg / Angstrom\n",
      "Zanstra model ratios H: T = 75000 K  K, Z = 5.220e-17 erg / Angstrom\n",
      "Zanstra model ratios H: T = 80000 K  K, Z = 4.400e-17 erg / Angstrom\n",
      "-------------------\n",
      "Zanstra model ratios H: T = 40000 K  K, Z = 5.098e-12 erg / Angstrom\n",
      "Zanstra model ratios H: T = 45000 K  K, Z = 9.046e-13 erg / Angstrom\n",
      "Zanstra model ratios H: T = 50000 K  K, Z = 2.261e-13 erg / Angstrom\n",
      "Zanstra model ratios H: T = 55000 K  K, Z = 7.247e-14 erg / Angstrom\n",
      "Zanstra model ratios H: T = 60000 K  K, Z = 2.801e-14 erg / Angstrom\n",
      "Zanstra model ratios H: T = 65000 K  K, Z = 1.250e-14 erg / Angstrom\n",
      "Zanstra model ratios H: T = 70000 K  K, Z = 6.244e-15 erg / Angstrom\n",
      "Zanstra model ratios H: T = 75000 K  K, Z = 3.415e-15 erg / Angstrom\n",
      "Zanstra model ratios H: T = 80000 K  K, Z = 2.010e-15 erg / Angstrom\n"
     ]
    }
   ],
   "source": [
    "# 4. theoretical Zanstra Ratio \n",
    "\n",
    "# blackbody for many temperatures\n",
    "\n",
    "T_eff_array = np.array([40,45, 50, 55, 60, 65, 70, 75, 80]) * 1e3 * u.K\n",
    "\n",
    "print(f\"Flux at 5480 Angström: {planck_wave(5480 * u.AA, T_eff_array)}\")\n",
    "\n",
    "print(\"-------------------\")\n",
    "# ionizing photons\n",
    "#nu_min = wave_ref.to(u.Hz, equivalencies=u.spectral()).decompose()\n",
    "\n",
    "#print(ionizing_photons(nu_min, T_eff_array))\n",
    "\n",
    "# model Zanstra ratios \n",
    "\n",
    "wave_ref = (5480 * u.AA)\n",
    "nu_min_H = (13.6 * 1.60218e-19 * u.J / const.h ).decompose()\n",
    "nu_min_He = (4 * 13.6 * 1.60218e-19 * u.J / const.h ).decompose()\n",
    "\n",
    "for i in range(len(T_eff_array)):\n",
    "    T_eff = T_eff_array[i]\n",
    "    Z_H = Zanstra_model(T_eff, wave_ref, nu_min_H)  # Compute for H\n",
    "    print(f\"Zanstra model ratios H: T = {T_eff:.0f}  K, Z = {Z_H:.3e}\")\n",
    "   \n",
    "print(\"-------------------\")\n",
    "\n",
    "for i in range(len(T_eff_array)):\n",
    "    T_eff = T_eff_array[i]\n",
    "    Z_H = Zanstra_model(T_eff, wave_ref, nu_min_He)  # Compute for H\n",
    "    print(f\"Zanstra model ratios H: T = {T_eff:.0f}  K, Z = {Z_H:.3e}\")\n"
   ]
  },
  {
   "cell_type": "code",
   "execution_count": 15,
   "metadata": {},
   "outputs": [],
   "source": [
    "T_eff_H = 55e3 * u.K\n",
    "T_eff_He = 55e3 * u.K"
   ]
  },
  {
   "cell_type": "code",
   "execution_count": 42,
   "metadata": {},
   "outputs": [
    {
     "name": "stdout",
     "output_type": "stream",
     "text": [
      "table 3 H = 15.830652922553 +- 0.5509000000000013\n",
      "table 3 He = 13.135133708494632 +- 1.092379121183698\n"
     ]
    }
   ],
   "source": [
    "# 5. T_eff and log_g using Table 3\n",
    "\n",
    "table_3_H = np.log10(1 / Z_H.value)\n",
    "table_3_He = np.log10(1 / Z_He.value)\n",
    "\n",
    "delta_table_3_H = (np.log10(1 / Z_H_min.value) - np.log10(1 / Z_H_max.value)) /2\n",
    "delta_table_3_He = (np.log10(1 / Z_He_min.value) - np.log10(1 / Z_He_max.value)) /2\n",
    "\n",
    "\n",
    "print(f\"table 3 H = {table_3_H} +- {delta_table_3_H}\")\n",
    "print(f\"table 3 He = {table_3_He} +- {delta_table_3_He}\")\n",
    "\n",
    "\n",
    "# Hydrogen\n",
    "\n",
    "log_NH_F = 15.83\n",
    "T_eff_H_table_3 = 50000 * u.K\n",
    "log_g_H_table_3 = 4.5\n",
    "\n",
    "log_NHe_F = 13.13\n",
    "T_eff_He_table_3 = 80000 * u.K\n",
    "log_g_He_table_3 = 5.5"
   ]
  },
  {
   "cell_type": "code",
   "execution_count": 17,
   "metadata": {},
   "outputs": [
    {
     "name": "stdout",
     "output_type": "stream",
     "text": [
      "log_g_1 = , 3.74, T_eff = 50000.0 K\n",
      "log_g_2 = , 3.5, T_eff = 40000.0 K\n"
     ]
    }
   ],
   "source": [
    "# 6. log_g and T_eff with the fit of model spectra\n",
    "\n",
    "print(f\"log_g_1 = , {log_g_1}, T_eff = {50e3 * u.K}\")\n",
    "print(f\"log_g_2 = , {log_g_2}, T_eff = {40e3 * u.K}\")\n",
    "\n"
   ]
  },
  {
   "cell_type": "code",
   "execution_count": 81,
   "metadata": {},
   "outputs": [
    {
     "name": "stdout",
     "output_type": "stream",
     "text": [
      "-----------------\n",
      "0.6918363114967312\n"
     ]
    }
   ],
   "source": [
    "# 7./8. R_CSPN and M_CSPN\n",
    "M_cspn = 0.552 * const.M_sun\n",
    "#print(M_cspn)\n",
    "\n",
    "print(\"-----------------\")\n",
    "\n",
    "g = 10**(4.5) * u.cm / u.s**2\n",
    "R_star_squared = (const.G * M_cspn / g).decompose()\n",
    "R_star = np.sqrt(R_star_squared)\n",
    "\n",
    "print(R_star / const.R_sun)"
   ]
  },
  {
   "cell_type": "code",
   "execution_count": null,
   "metadata": {},
   "outputs": [
    {
     "name": "stdout",
     "output_type": "stream",
     "text": [
      "distance = 1780.2398182840748 pc +- 351.50172803985777 pc\n",
      "348963015.66399646 erg / (Angstrom s cm2)\n"
     ]
    }
   ],
   "source": [
    "# 9. CSPN distance \n",
    "distance = R_star_squared * planck_wave(5480*u.AA, 55e3 * u.K) / F_ref_5480\n",
    "d = (np.sqrt(distance.decompose())/ (1*u.pc)).decompose().value * u.pc\n",
    "\n",
    "delta_distance = ((np.sqrt((R_star_squared * planck_wave(5480*u.AA, T_eff_H_table_3) / F_ref_5480_min).decompose())\n",
    "                  - np.sqrt((R_star_squared * planck_wave(5480*u.AA, T_eff_H_table_3) / F_ref_5480_max)).decompose()) / (2 * u.pc)).decompose() * u.pc\n",
    "\n",
    "print(f\"distance = {d} +- {delta_distance}\")\n",
    "\n"
   ]
  },
  {
   "cell_type": "code",
   "execution_count": 85,
   "metadata": {},
   "outputs": [
    {
     "name": "stdout",
     "output_type": "stream",
     "text": [
      "R_neb = 0.17094189440323607 +- 0.033751840993569086 Ly\n",
      "--------------\n",
      "M_neb = 0.06058562493343817 +- 0.05809099051636571 M_sun\n",
      "-----------------\n",
      "t_kin = 2442.078687016828 +- 482.17935004010104 years\n"
     ]
    }
   ],
   "source": [
    "# 10. radius, mass and kinematic age of the nebula\n",
    "\n",
    "nu = nu_H_beta\n",
    "n_4 = n_e **2 * 3.58e-15 * u.K **(3/2) * u.cm **3 / T_neb **(3/2)\n",
    "A_42 = 8.42e6 / u.s\n",
    "pc = 3086e16 * u.m    # distance conversion pc in m\n",
    "ly = 9.461e15 * u.m    # distance conversion light years in m\n",
    "\n",
    "r_neb = 4.848 * 1e-6 * ang_dia_H.value / 2 * d \n",
    "\n",
    "delta_r_neb = (((4.848 * 1e-6 * ang_dia_H.value / 2 * (d+delta_distance))\n",
    "                 -( 4.848 * 1e-6 * ang_dia_H.value / 2 * (d-delta_distance))) / 2)\n",
    "\n",
    "rho_mean = (n_e / 1.13 * (1 + 4 * 0.1) * 1.00784 * u.u).decompose()\n",
    "\n",
    "\n",
    "M_neb = (4 * np.pi * d**2 * F_H_beta / (const.h * nu * n_4 * A_42)\n",
    "          * rho_mean / const.M_sun)\n",
    "\n",
    "delta_M_neb = (((4 * np.pi * d**2 * F_H_beta_max / (const.h * nu * n_4 * A_42)\n",
    "          * rho_mean / const.M_sun) - \n",
    "          (4 * np.pi * d**2 * F_H_beta_min / (const.h * nu * n_4 * A_42)\n",
    "          * rho_mean / const.M_sun)) / 2)\n",
    "\n",
    "\n",
    "\n",
    "print(f\"R_neb = {(r_neb/ly).decompose()} +- {(delta_r_neb/ly).decompose()} Ly\")\n",
    "\n",
    "print(\"--------------\")\n",
    "\n",
    "print(f\"M_neb = {M_neb.decompose()} +- {delta_M_neb.decompose()} M_sun\")\n",
    "\n",
    "\n",
    "print(\"-----------------\")\n",
    "# Kinematic age\n",
    "\n",
    "t_kin = r_neb.decompose() / (21 * u.km / u.s)\n",
    "\n",
    "delta_t_kin = delta_r_neb.decompose() / (21 * u.km / u.s)\n",
    "\n",
    "print((f\"t_kin = {t_kin.decompose().value/(365 * 24 * 3600)}\" \n",
    "      + f\" +- {delta_t_kin.decompose().value/(365 * 24 * 3600)} years\"))"
   ]
  }
 ],
 "metadata": {
  "kernelspec": {
   "display_name": "usr",
   "language": "python",
   "name": "python3"
  },
  "language_info": {
   "codemirror_mode": {
    "name": "ipython",
    "version": 3
   },
   "file_extension": ".py",
   "mimetype": "text/x-python",
   "name": "python",
   "nbconvert_exporter": "python",
   "pygments_lexer": "ipython3",
   "version": "3.12.3"
  }
 },
 "nbformat": 4,
 "nbformat_minor": 2
}
